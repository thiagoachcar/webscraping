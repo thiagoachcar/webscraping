{
  "cells": [
    {
      "cell_type": "code",
      "execution_count": null,
      "metadata": {
        "id": "wdAZAXN1Ljv8"
      },
      "outputs": [],
      "source": [
        "!apt-get update\n",
        "!apt-get install -y wget unzip\n",
        "!wget -q https://dl.google.com/linux/direct/google-chrome-stable_current_amd64.deb\n",
        "!dpkg -i google-chrome-stable_current_amd64.deb\n",
        "!apt-get -f install -y\n",
        "\n",
        "# Verificar versão do Google Chrome\n",
        "!google-chrome --version\n",
        "\n",
        "# Instalar a versão correta do ChromeDriver\n",
        "!wget -N https://chromedriver.storage.googleapis.com/$(curl -sS https://chromedriver.storage.googleapis.com/LATEST_RELEASE)/chromedriver_linux64.zip\n",
        "!unzip -o chromedriver_linux64.zip\n",
        "!chmod +x chromedriver\n",
        "!mv -f chromedriver /usr/local/bin/chromedriver\n",
        "\n",
        "# Instalar o Selenium e Webdriver Manager\n",
        "!pip install selenium\n",
        "!pip install webdriver-manager\n",
        "\n",
        "# Usar o Webdriver Manager para gerenciar automaticamente o download e caminho do ChromeDriver\n",
        "from selenium import webdriver\n",
        "from selenium.webdriver.chrome.service import Service\n",
        "from selenium.webdriver.common.by import By\n",
        "from selenium.webdriver.chrome.options import Options\n",
        "from webdriver_manager.chrome import ChromeDriverManager\n",
        "import time\n"
      ]
    },
    {
      "cell_type": "code",
      "execution_count": null,
      "metadata": {
        "id": "2vJIAseIy5WH"
      },
      "outputs": [],
      "source": [
        "# Configurar o navegador Chrome em modo headless (sem interface gráfica)\n",
        "chrome_options = Options()\n",
        "chrome_options.add_argument('--headless')\n",
        "chrome_options.add_argument('--no-sandbox')\n",
        "chrome_options.add_argument('--disable-dev-shm-usage')\n",
        "\n",
        "# Usar WebDriver Manager para gerenciar o ChromeDriver\n",
        "driver = webdriver.Chrome(service=Service(ChromeDriverManager().install()), options=chrome_options)\n",
        "\n",
        "# Acessar o site\n",
        "url = 'siteurl'\n",
        "driver.get(url)\n",
        "\n",
        "# Esperar alguns segundos para garantir o carregamento da página\n",
        "time.sleep(5)\n",
        "\n",
        "# Extrair o conteúdo de texto da página\n",
        "texto_pagina = driver.find_element(By.TAG_NAME, 'body').text\n",
        "\n",
        "# Fechar o navegador\n",
        "driver.quit()"
      ]
    },
    {
      "cell_type": "code",
      "source": [
        "print (texto_pagina)"
      ],
      "metadata": {
        "id": "xaARo1qrn3GG"
      },
      "execution_count": null,
      "outputs": []
    }
  ],
  "metadata": {
    "colab": {
      "provenance": []
    },
    "kernelspec": {
      "display_name": "Python 3",
      "name": "python3"
    },
    "language_info": {
      "name": "python"
    }
  },
  "nbformat": 4,
  "nbformat_minor": 0
}